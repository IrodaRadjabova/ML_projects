{
 "cells": [
  {
   "cell_type": "code",
   "execution_count": 31,
   "metadata": {
    "ExecuteTime": {
     "end_time": "2023-11-10T12:17:59.732839Z",
     "start_time": "2023-11-10T12:17:58.984760Z"
    }
   },
   "outputs": [],
   "source": [
    "import pandas as pd\n",
    "import numpy as np\n",
    "from sklearn.model_selection import train_test_split\n",
    "from sklearn.metrics import mean_absolute_error, mean_squared_error, r2_score, mean_absolute_percentage_error\n",
    "from sklearn.preprocessing import LabelEncoder\n",
    "from sklearn.model_selection import GridSearchCV\n",
    "import matplotlib.pyplot as plt\n",
    "import seaborn as sns\n",
    "from prettytable import PrettyTable\n",
    "from sklearn.preprocessing import scale"
   ]
  },
  {
   "cell_type": "code",
   "execution_count": 2,
   "metadata": {
    "ExecuteTime": {
     "end_time": "2023-11-10T12:19:19.068081Z",
     "start_time": "2023-11-10T12:19:19.033039Z"
    }
   },
   "outputs": [],
   "source": [
    "data = pd.read_csv('last_data.csv')\n",
    "data = data.drop('Unnamed: 0', axis=1)\n",
    "X = data.drop('Summary', axis=1)\n",
    "y = data['Summary']\n",
    "X_train, X_test, y_train, y_test = train_test_split(X, y, \n",
    "                                   random_state=42,  \n",
    "                                   test_size=0.3)\n",
    "num_predictors = X.shape[1]"
   ]
  },
  {
   "cell_type": "code",
   "execution_count": 3,
   "metadata": {
    "ExecuteTime": {
     "end_time": "2023-11-10T12:19:24.001481Z",
     "start_time": "2023-11-10T12:19:22.258861Z"
    }
   },
   "outputs": [
    {
     "name": "stdout",
     "output_type": "stream",
     "text": [
      "Best Hyperparameters: {'copy_X': True, 'fit_intercept': True, 'n_jobs': 1}\n",
      "Best Hyperparameters: LinearRegression(n_jobs=1)\n"
     ]
    },
    {
     "data": {
      "text/html": [
       "<style>#sk-container-id-1 {color: black;background-color: white;}#sk-container-id-1 pre{padding: 0;}#sk-container-id-1 div.sk-toggleable {background-color: white;}#sk-container-id-1 label.sk-toggleable__label {cursor: pointer;display: block;width: 100%;margin-bottom: 0;padding: 0.3em;box-sizing: border-box;text-align: center;}#sk-container-id-1 label.sk-toggleable__label-arrow:before {content: \"▸\";float: left;margin-right: 0.25em;color: #696969;}#sk-container-id-1 label.sk-toggleable__label-arrow:hover:before {color: black;}#sk-container-id-1 div.sk-estimator:hover label.sk-toggleable__label-arrow:before {color: black;}#sk-container-id-1 div.sk-toggleable__content {max-height: 0;max-width: 0;overflow: hidden;text-align: left;background-color: #f0f8ff;}#sk-container-id-1 div.sk-toggleable__content pre {margin: 0.2em;color: black;border-radius: 0.25em;background-color: #f0f8ff;}#sk-container-id-1 input.sk-toggleable__control:checked~div.sk-toggleable__content {max-height: 200px;max-width: 100%;overflow: auto;}#sk-container-id-1 input.sk-toggleable__control:checked~label.sk-toggleable__label-arrow:before {content: \"▾\";}#sk-container-id-1 div.sk-estimator input.sk-toggleable__control:checked~label.sk-toggleable__label {background-color: #d4ebff;}#sk-container-id-1 div.sk-label input.sk-toggleable__control:checked~label.sk-toggleable__label {background-color: #d4ebff;}#sk-container-id-1 input.sk-hidden--visually {border: 0;clip: rect(1px 1px 1px 1px);clip: rect(1px, 1px, 1px, 1px);height: 1px;margin: -1px;overflow: hidden;padding: 0;position: absolute;width: 1px;}#sk-container-id-1 div.sk-estimator {font-family: monospace;background-color: #f0f8ff;border: 1px dotted black;border-radius: 0.25em;box-sizing: border-box;margin-bottom: 0.5em;}#sk-container-id-1 div.sk-estimator:hover {background-color: #d4ebff;}#sk-container-id-1 div.sk-parallel-item::after {content: \"\";width: 100%;border-bottom: 1px solid gray;flex-grow: 1;}#sk-container-id-1 div.sk-label:hover label.sk-toggleable__label {background-color: #d4ebff;}#sk-container-id-1 div.sk-serial::before {content: \"\";position: absolute;border-left: 1px solid gray;box-sizing: border-box;top: 0;bottom: 0;left: 50%;z-index: 0;}#sk-container-id-1 div.sk-serial {display: flex;flex-direction: column;align-items: center;background-color: white;padding-right: 0.2em;padding-left: 0.2em;position: relative;}#sk-container-id-1 div.sk-item {position: relative;z-index: 1;}#sk-container-id-1 div.sk-parallel {display: flex;align-items: stretch;justify-content: center;background-color: white;position: relative;}#sk-container-id-1 div.sk-item::before, #sk-container-id-1 div.sk-parallel-item::before {content: \"\";position: absolute;border-left: 1px solid gray;box-sizing: border-box;top: 0;bottom: 0;left: 50%;z-index: -1;}#sk-container-id-1 div.sk-parallel-item {display: flex;flex-direction: column;z-index: 1;position: relative;background-color: white;}#sk-container-id-1 div.sk-parallel-item:first-child::after {align-self: flex-end;width: 50%;}#sk-container-id-1 div.sk-parallel-item:last-child::after {align-self: flex-start;width: 50%;}#sk-container-id-1 div.sk-parallel-item:only-child::after {width: 0;}#sk-container-id-1 div.sk-dashed-wrapped {border: 1px dashed gray;margin: 0 0.4em 0.5em 0.4em;box-sizing: border-box;padding-bottom: 0.4em;background-color: white;}#sk-container-id-1 div.sk-label label {font-family: monospace;font-weight: bold;display: inline-block;line-height: 1.2em;}#sk-container-id-1 div.sk-label-container {text-align: center;}#sk-container-id-1 div.sk-container {/* jupyter's `normalize.less` sets `[hidden] { display: none; }` but bootstrap.min.css set `[hidden] { display: none !important; }` so we also need the `!important` here to be able to override the default hidden behavior on the sphinx rendered scikit-learn.org. See: https://github.com/scikit-learn/scikit-learn/issues/21755 */display: inline-block !important;position: relative;}#sk-container-id-1 div.sk-text-repr-fallback {display: none;}</style><div id=\"sk-container-id-1\" class=\"sk-top-container\"><div class=\"sk-text-repr-fallback\"><pre>LinearRegression(n_jobs=1)</pre><b>In a Jupyter environment, please rerun this cell to show the HTML representation or trust the notebook. <br />On GitHub, the HTML representation is unable to render, please try loading this page with nbviewer.org.</b></div><div class=\"sk-container\" hidden><div class=\"sk-item\"><div class=\"sk-estimator sk-toggleable\"><input class=\"sk-toggleable__control sk-hidden--visually\" id=\"sk-estimator-id-1\" type=\"checkbox\" checked><label for=\"sk-estimator-id-1\" class=\"sk-toggleable__label sk-toggleable__label-arrow\">LinearRegression</label><div class=\"sk-toggleable__content\"><pre>LinearRegression(n_jobs=1)</pre></div></div></div></div></div>"
      ],
      "text/plain": [
       "LinearRegression(n_jobs=1)"
      ]
     },
     "execution_count": 3,
     "metadata": {},
     "output_type": "execute_result"
    }
   ],
   "source": [
    "from sklearn.linear_model import LinearRegression\n",
    "param_grid = {\n",
    "    'fit_intercept': [True, False],\n",
    "    'copy_X' : [True, False],\n",
    "    'n_jobs': [1, -1]\n",
    "}\n",
    "\n",
    "# Create an SVM classifier\n",
    "lr = LinearRegression()\n",
    "\n",
    "# Use GridSearchCV to find the best hyperparameters\n",
    "grid_search = GridSearchCV(lr, param_grid, cv=5)\n",
    "grid_search.fit(X_train, y_train)\n",
    "\n",
    "# The best hyperparameters are in grid_search.best_params_\n",
    "print(\"Best Hyperparameters:\", grid_search.best_params_)\n",
    "print(\"Best Hyperparameters:\", grid_search.best_estimator_)\n",
    "grid_search.best_estimator_\n"
   ]
  },
  {
   "cell_type": "code",
   "execution_count": 4,
   "metadata": {
    "ExecuteTime": {
     "end_time": "2023-11-10T12:19:28.622043Z",
     "start_time": "2023-11-10T12:19:28.470001Z"
    }
   },
   "outputs": [
    {
     "data": {
      "text/plain": [
       "0.6790619544801199"
      ]
     },
     "execution_count": 4,
     "metadata": {},
     "output_type": "execute_result"
    }
   ],
   "source": [
    "from sklearn.linear_model import LinearRegression\n",
    "lr = LinearRegression(copy_X=True, fit_intercept=True, n_jobs=1)\n",
    "lr.fit(X_train, y_train)\n",
    "y_pred_lr = lr.predict(X_test)\n",
    "metrics.mean_absolute_error(y_test, y_pred_lr)"
   ]
  },
  {
   "cell_type": "code",
   "execution_count": 5,
   "metadata": {
    "ExecuteTime": {
     "end_time": "2023-11-10T12:20:22.518874Z",
     "start_time": "2023-11-10T12:19:37.002623Z"
    }
   },
   "outputs": [
    {
     "name": "stdout",
     "output_type": "stream",
     "text": [
      "{'bootstrap': True, 'max_depth': None, 'min_samples_split': 2, 'n_estimators': 100}\n"
     ]
    }
   ],
   "source": [
    "from sklearn.ensemble import RandomForestRegressor\n",
    "param_grid_rfr = {\n",
    "    'n_estimators': [10, 50, 100],\n",
    "    'max_depth': [None, 2, 4, 10],\n",
    "    'min_samples_split': [2, 5, 10],\n",
    "    'bootstrap': [True, False]          \n",
    "}\n",
    "rfr = RandomForestRegressor()\n",
    "grid_search_rfr = GridSearchCV(rfr, param_grid_rfr, cv=5)\n",
    "grid_search_rfr.fit(X_train, y_train)\n",
    "print(grid_search_rfr.best_params_)"
   ]
  },
  {
   "cell_type": "code",
   "execution_count": 6,
   "metadata": {
    "ExecuteTime": {
     "end_time": "2023-11-10T12:24:40.844241Z",
     "start_time": "2023-11-10T12:24:38.179366Z"
    }
   },
   "outputs": [
    {
     "data": {
      "text/plain": [
       "0.32626251749757723"
      ]
     },
     "execution_count": 6,
     "metadata": {},
     "output_type": "execute_result"
    }
   ],
   "source": [
    "best_rfr = RandomForestRegressor(bootstrap=True, max_depth=None, min_samples_split=2, n_estimators=100)\n",
    "best_rfr.fit(X_train, y_train)\n",
    "y_pred_rfr = best_rfr.predict(X_test)\n",
    "metrics.mean_absolute_error(y_test, y_pred_rfr)"
   ]
  },
  {
   "cell_type": "code",
   "execution_count": 7,
   "metadata": {
    "ExecuteTime": {
     "end_time": "2023-11-10T12:24:58.304751Z",
     "start_time": "2023-11-10T12:24:42.498910Z"
    }
   },
   "outputs": [
    {
     "name": "stderr",
     "output_type": "stream",
     "text": [
      "/Users/iroda-macbook/anaconda3/envs/py39/lib/python3.9/site-packages/sklearn/model_selection/_validation.py:378: FitFailedWarning: \n",
      "810 fits failed out of a total of 1215.\n",
      "The score on these train-test partitions for these parameters will be set to nan.\n",
      "If these failures are not expected, you can try to debug them by setting error_score='raise'.\n",
      "\n",
      "Below are more details about the failures:\n",
      "--------------------------------------------------------------------------------\n",
      "405 fits failed with the following error:\n",
      "Traceback (most recent call last):\n",
      "  File \"/Users/iroda-macbook/anaconda3/envs/py39/lib/python3.9/site-packages/sklearn/model_selection/_validation.py\", line 686, in _fit_and_score\n",
      "    estimator.fit(X_train, y_train, **fit_params)\n",
      "  File \"/Users/iroda-macbook/anaconda3/envs/py39/lib/python3.9/site-packages/sklearn/ensemble/_hist_gradient_boosting/gradient_boosting.py\", line 353, in fit\n",
      "    self._validate_params()\n",
      "  File \"/Users/iroda-macbook/anaconda3/envs/py39/lib/python3.9/site-packages/sklearn/base.py\", line 600, in _validate_params\n",
      "    validate_parameter_constraints(\n",
      "  File \"/Users/iroda-macbook/anaconda3/envs/py39/lib/python3.9/site-packages/sklearn/utils/_param_validation.py\", line 97, in validate_parameter_constraints\n",
      "    raise InvalidParameterError(\n",
      "sklearn.utils._param_validation.InvalidParameterError: The 'max_bins' parameter of HistGradientBoostingRegressor must be an int in the range [2, 255]. Got 512 instead.\n",
      "\n",
      "--------------------------------------------------------------------------------\n",
      "405 fits failed with the following error:\n",
      "Traceback (most recent call last):\n",
      "  File \"/Users/iroda-macbook/anaconda3/envs/py39/lib/python3.9/site-packages/sklearn/model_selection/_validation.py\", line 686, in _fit_and_score\n",
      "    estimator.fit(X_train, y_train, **fit_params)\n",
      "  File \"/Users/iroda-macbook/anaconda3/envs/py39/lib/python3.9/site-packages/sklearn/ensemble/_hist_gradient_boosting/gradient_boosting.py\", line 353, in fit\n",
      "    self._validate_params()\n",
      "  File \"/Users/iroda-macbook/anaconda3/envs/py39/lib/python3.9/site-packages/sklearn/base.py\", line 600, in _validate_params\n",
      "    validate_parameter_constraints(\n",
      "  File \"/Users/iroda-macbook/anaconda3/envs/py39/lib/python3.9/site-packages/sklearn/utils/_param_validation.py\", line 97, in validate_parameter_constraints\n",
      "    raise InvalidParameterError(\n",
      "sklearn.utils._param_validation.InvalidParameterError: The 'max_bins' parameter of HistGradientBoostingRegressor must be an int in the range [2, 255]. Got 1024 instead.\n",
      "\n",
      "  warnings.warn(some_fits_failed_message, FitFailedWarning)\n",
      "/Users/iroda-macbook/anaconda3/envs/py39/lib/python3.9/site-packages/sklearn/model_selection/_search.py:952: UserWarning: One or more of the test scores are non-finite: [0.25625745 0.2562726  0.25566493 0.34020543 0.34046499 0.33957895\n",
      " 0.38623975 0.38676136 0.38710164 0.32475515 0.32443389 0.32344067\n",
      " 0.42499294 0.42629111 0.42623963 0.4756435  0.4754071  0.47450219\n",
      " 0.35616081 0.35800851 0.35824498 0.45766881 0.45739058 0.45491023\n",
      " 0.50408302 0.50295246 0.50473493        nan        nan        nan\n",
      "        nan        nan        nan        nan        nan        nan\n",
      "        nan        nan        nan        nan        nan        nan\n",
      "        nan        nan        nan        nan        nan        nan\n",
      "        nan        nan        nan        nan        nan        nan\n",
      "        nan        nan        nan        nan        nan        nan\n",
      "        nan        nan        nan        nan        nan        nan\n",
      "        nan        nan        nan        nan        nan        nan\n",
      "        nan        nan        nan        nan        nan        nan\n",
      "        nan        nan        nan 0.47505835 0.4745965  0.47259337\n",
      " 0.5086956  0.5082643  0.50890111 0.52670524 0.52771803 0.5269361\n",
      " 0.56213762 0.56675495 0.56526963 0.59696956 0.59497526 0.59692137\n",
      " 0.61269582 0.61172209 0.61470914 0.58760932 0.58817927 0.58950942\n",
      " 0.61988464 0.62154364 0.62377589 0.62104399 0.63124979 0.63859185\n",
      "        nan        nan        nan        nan        nan        nan\n",
      "        nan        nan        nan        nan        nan        nan\n",
      "        nan        nan        nan        nan        nan        nan\n",
      "        nan        nan        nan        nan        nan        nan\n",
      "        nan        nan        nan        nan        nan        nan\n",
      "        nan        nan        nan        nan        nan        nan\n",
      "        nan        nan        nan        nan        nan        nan\n",
      "        nan        nan        nan        nan        nan        nan\n",
      "        nan        nan        nan        nan        nan        nan\n",
      " 0.51109013 0.50660689 0.50844594 0.54139146 0.53785834 0.53930196\n",
      " 0.55352732 0.55260267 0.55457483 0.59111029 0.5918417  0.59301387\n",
      " 0.61649761 0.61441467 0.61078646 0.61737907 0.60705688 0.61059477\n",
      " 0.61239522 0.61208914 0.61591595 0.63025998 0.6363562  0.63650872\n",
      " 0.63202618 0.63598358 0.63659027        nan        nan        nan\n",
      "        nan        nan        nan        nan        nan        nan\n",
      "        nan        nan        nan        nan        nan        nan\n",
      "        nan        nan        nan        nan        nan        nan\n",
      "        nan        nan        nan        nan        nan        nan\n",
      "        nan        nan        nan        nan        nan        nan\n",
      "        nan        nan        nan        nan        nan        nan\n",
      "        nan        nan        nan        nan        nan        nan\n",
      "        nan        nan        nan        nan        nan        nan\n",
      "        nan        nan        nan]\n",
      "  warnings.warn(\n"
     ]
    },
    {
     "name": "stdout",
     "output_type": "stream",
     "text": [
      "{'learning_rate': 0.1, 'max_bins': 255, 'max_depth': 7, 'max_iter': 300, 'min_samples_leaf': 4}\n"
     ]
    }
   ],
   "source": [
    "from sklearn.ensemble import HistGradientBoostingRegressor\n",
    "gb_reg = HistGradientBoostingRegressor()\n",
    "param_grid_gbr = {\n",
    "    'learning_rate': [0.01, 0.1, 0.2],   # Step size shrinkage used to prevent overfitting\n",
    "    'max_iter': [100, 200, 300],\n",
    "    'max_depth': [3, 5, 7],\n",
    "    'min_samples_leaf': [1, 2, 4],\n",
    "    'max_bins': [255, 512, 1024]\n",
    "}\n",
    "grid_search_gbr = GridSearchCV(gb_reg, param_grid=param_grid_gbr, cv=5)\n",
    "\n",
    "grid_search_gbr.fit(X_train, y_train)\n",
    "print(grid_search_gbr.best_params_)"
   ]
  },
  {
   "cell_type": "code",
   "execution_count": 8,
   "metadata": {
    "ExecuteTime": {
     "end_time": "2023-11-10T12:27:00.914004Z",
     "start_time": "2023-11-10T12:26:59.644587Z"
    }
   },
   "outputs": [],
   "source": [
    "best_gbr = HistGradientBoostingRegressor(learning_rate=0.1, max_iter=300, max_depth=7, min_samples_leaf=4, max_bins=255)\n",
    "best_gbr.fit(X_train, y_train)\n",
    "y_pred_gbr = best_gbr.predict(X_test)"
   ]
  },
  {
   "cell_type": "code",
   "execution_count": 9,
   "metadata": {},
   "outputs": [
    {
     "data": {
      "text/plain": [
       "0.3354998105378756"
      ]
     },
     "execution_count": 9,
     "metadata": {},
     "output_type": "execute_result"
    }
   ],
   "source": [
    "metrics.mean_absolute_error(y_test, y_pred_gbr)"
   ]
  },
  {
   "cell_type": "code",
   "execution_count": 10,
   "metadata": {
    "ExecuteTime": {
     "end_time": "2023-11-10T12:27:05.096746Z",
     "start_time": "2023-11-10T12:27:04.773018Z"
    }
   },
   "outputs": [
    {
     "name": "stdout",
     "output_type": "stream",
     "text": [
      "{'alpha': 0.1}\n"
     ]
    }
   ],
   "source": [
    "from sklearn.linear_model import Ridge\n",
    "rg = Ridge()\n",
    "param_grid_rg = {'alpha': [0.1, 1.0, 10.0]}\n",
    "grid_search_rg = GridSearchCV(rg, param_grid=param_grid_rg, cv=5)\n",
    "grid_search_rg.fit(X_train, y_train)\n",
    "print(grid_search_rg.best_params_)\n"
   ]
  },
  {
   "cell_type": "code",
   "execution_count": 11,
   "metadata": {
    "ExecuteTime": {
     "end_time": "2023-11-10T12:27:07.828911Z",
     "start_time": "2023-11-10T12:27:07.705993Z"
    }
   },
   "outputs": [],
   "source": [
    "best_rg = Ridge(alpha=0.1)\n",
    "best_rg.fit(X_train, y_train)\n",
    "y_pred_rg = best_rg.predict(X_test)"
   ]
  },
  {
   "cell_type": "code",
   "execution_count": 12,
   "metadata": {},
   "outputs": [
    {
     "name": "stdout",
     "output_type": "stream",
     "text": [
      "{'C': 0.1, 'epsilon': 0.2, 'kernel': 'linear'}\n"
     ]
    }
   ],
   "source": [
    "from sklearn.svm import SVR\n",
    "svr = SVR()\n",
    "param_grid_svr = {\n",
    "    'C': [0.1, 1, 10],\n",
    "    'epsilon': [0.1, 0.2, 0.5],\n",
    "    'kernel': ['linear', 'rbf', 'poly']\n",
    "}\n",
    "grid_search_svr = GridSearchCV(svr, param_grid=param_grid_svr, cv=5)\n",
    "grid_search_svr.fit(X_train, y_train)\n",
    "print(grid_search_svr.best_params_)\n"
   ]
  },
  {
   "cell_type": "code",
   "execution_count": 13,
   "metadata": {},
   "outputs": [],
   "source": [
    "best_svr = SVR(C=0.1, epsilon=0.2, kernel='linear') #kernel\n",
    "best_svr.fit(X_train, y_train)\n",
    "y_pred_svr = best_svr.predict(X_test)"
   ]
  },
  {
   "cell_type": "code",
   "execution_count": 14,
   "metadata": {},
   "outputs": [
    {
     "name": "stdout",
     "output_type": "stream",
     "text": [
      "{'learning_rate': 0.2, 'max_depth': 7, 'min_child_weight': 3, 'n_estimators': 300}\n"
     ]
    }
   ],
   "source": [
    "from xgboost import XGBRegressor\n",
    "param_grid_xgb = {\n",
    "    'learning_rate': [0.01, 0.1, 0.2],\n",
    "    'n_estimators': [100, 200, 300],\n",
    "    'max_depth': [3, 5, 7],\n",
    "    'min_child_weight': [1, 3, 5]\n",
    "    \n",
    "}\n",
    "xgb_reg = XGBRegressor()\n",
    "grid_search_xgb = GridSearchCV(xgb_reg, param_grid=param_grid_xgb, cv=5)\n",
    "grid_search_xgb.fit(X_train, y_train)\n",
    "print(grid_search_xgb.best_params_)"
   ]
  },
  {
   "cell_type": "code",
   "execution_count": 15,
   "metadata": {},
   "outputs": [],
   "source": [
    "best_xgb = XGBRegressor(learning_rate=0.1, n_estimators=100, max_depth=3, min_child_weight=5)\n",
    "best_xgb.fit(X_train, y_train)\n",
    "y_pred_xgb = best_xgb.predict(X_test)"
   ]
  },
  {
   "cell_type": "code",
   "execution_count": 37,
   "metadata": {
    "ExecuteTime": {
     "end_time": "2023-11-10T12:20:46.441933Z",
     "start_time": "2023-11-10T12:20:46.420622Z"
    }
   },
   "outputs": [],
   "source": [
    "def mae(y_test, y_pred):\n",
    "    error = np.mean(np.abs(y_test - y_pred))\n",
    "    \n",
    "    return round(error, 4)\n"
   ]
  },
  {
   "cell_type": "code",
   "execution_count": 38,
   "metadata": {
    "ExecuteTime": {
     "end_time": "2023-11-10T12:20:47.301898Z",
     "start_time": "2023-11-10T12:20:47.291089Z"
    }
   },
   "outputs": [],
   "source": [
    "def mse(y_test, y_pred):\n",
    "    error = np.mean((y_test - y_pred)**2)\n",
    "    return round(error, 4)"
   ]
  },
  {
   "cell_type": "code",
   "execution_count": 39,
   "metadata": {
    "ExecuteTime": {
     "end_time": "2023-11-10T12:20:48.142590Z",
     "start_time": "2023-11-10T12:20:48.131322Z"
    }
   },
   "outputs": [],
   "source": [
    "def R_squared(y_test, y_pred):\n",
    "    mean_true_values = np.mean(y_test)\n",
    "    tss = np.mean((y_test - mean_true_values)**2)\n",
    "    rss = np.mean((y_test - y_pred)**2)\n",
    "    r_squared = 1 - (rss/tss)\n",
    "    return round(r_squared, 4)"
   ]
  },
  {
   "cell_type": "code",
   "execution_count": 40,
   "metadata": {
    "ExecuteTime": {
     "end_time": "2023-11-10T12:20:49.188780Z",
     "start_time": "2023-11-10T12:20:49.178701Z"
    }
   },
   "outputs": [],
   "source": [
    "def adjusted_r2(y_test, y_pred, num_predictors):\n",
    "    r_squared = R_squared(y_test, y_pred)\n",
    "    \n",
    "    # Calculate the number of observations\n",
    "    n = len(y_test)\n",
    "    \n",
    "    # Calculate adjusted R-squared\n",
    "    adjusted_r_squared = np.mean(1 - ((1 - r_squared) * (n - 1) / (n - num_predictors - 1)))\n",
    "    \n",
    "    return round(adjusted_r_squared, 4)"
   ]
  },
  {
   "cell_type": "code",
   "execution_count": 41,
   "metadata": {
    "ExecuteTime": {
     "end_time": "2023-11-10T12:20:50.147581Z",
     "start_time": "2023-11-10T12:20:50.134052Z"
    }
   },
   "outputs": [],
   "source": [
    "\n",
    "def mape(y_test, y_pred):\n",
    "    error = np.mean(np.abs((scale(y_test) - scale(y_pred)) / scale(y_test))) * 100\n",
    "    return round(error, 4)"
   ]
  },
  {
   "cell_type": "code",
   "execution_count": 42,
   "metadata": {
    "ExecuteTime": {
     "end_time": "2023-11-10T12:21:08.417263Z",
     "start_time": "2023-11-10T12:21:08.413348Z"
    }
   },
   "outputs": [],
   "source": [
    "def metrics_from_sklearn(y_test, y_pred, num_predictors):\n",
    "    mae = round(mean_absolute_error(y_test, y_pred), 4)\n",
    "    mse = round(mean_squared_error(y_test, y_pred), 4)\n",
    "    r2 = round(r2_score(y_test, y_pred), 4)\n",
    "    n = len(y_test)\n",
    "    adjusted_r2 = 1 - ((1 - r2) * (n - 1) / (n - num_predictors - 1))\n",
    "    mape = mean_absolute_percentage_error(y_test, y_pred)\n",
    "    print(mae, '\\t', mse, r2, '\\t', round(adjusted_r2, 4), '\\t', round(mape, 4))\n",
    "    "
   ]
  },
  {
   "cell_type": "code",
   "execution_count": 43,
   "metadata": {},
   "outputs": [
    {
     "name": "stdout",
     "output_type": "stream",
     "text": [
      "Metrics \t\tMAE \t\t MSE \t\t R2 \t\tAdjuted R2\t\tMAPE\t\t\n",
      "Linear Regression \t 0.6791 \t 0.6053 \t 0.214 \t\t 0.2132 \t\t 138.3684\n",
      "Random Forest \t \t 0.3263 \t 0.279 \t 0.6378 \t 0.6374 \t\t 43.958\n",
      "Gradient Boosts \t 0.3355 \t 0.2647 \t 0.6563 \t 0.6559 \t\t 45.7152\n",
      "SVM Regressor \t \t 0.6777 \t 0.608 \t\t 0.2106 \t 0.2097 \t\t 137.6117\n",
      "XG Boosts \t \t 0.4621 \t 0.4027 \t 0.4771 \t 0.4765 \t\t 64.4678\n",
      "\n",
      "Metrics with sklearn \tMAE \t MSE \t R2 \tAdjuted R2\tMAPE\t\n",
      "Linear Regression\t0.6791 \t 0.6053 0.214 \t 0.2132 \t 1233615611858540.8\n",
      "\"Random Forest\t\t0.3263 \t 0.279 0.6378 \t 0.6374 \t 729018674255937.0\n",
      "Gradient Boosts\t\t0.3355 \t 0.2647 0.6563 \t 0.6559 \t 709630439051149.6\n",
      "SVM Regressor\t\t0.6777 \t 0.608 0.2106 \t 0.2097 \t 1192119475020674.0\n",
      "XG Boosts\t\t0.4621 \t 0.4027 0.4771 \t 0.4765 \t 1000768920327548.8\n"
     ]
    },
    {
     "name": "stderr",
     "output_type": "stream",
     "text": [
      "/Users/iroda-macbook/anaconda3/envs/py39/lib/python3.9/site-packages/sklearn/preprocessing/_data.py:240: UserWarning: Numerical issues were encountered when centering the data and might not be solved. Dataset may contain too large values. You may need to prescale your features.\n",
      "  warnings.warn(\n"
     ]
    }
   ],
   "source": [
    "metrics_reg = ['Metrics ', 'MAE ', ' MSE ', ' R2 ', 'Adjuted R2', 'MAPE']\n",
    "for i in metrics_reg:\n",
    "    print(i, end='\\t\\t')\n",
    "print()\n",
    "print(\"Linear Regression \\t\", mae(y_test, y_pred_lr),'\\t', mse(y_test, y_pred_lr), '\\t', R_squared(y_test, y_pred_lr), '\\t\\t', adjusted_r2(y_test, y_pred_lr, num_predictors), '\\t\\t', mape(y_test, y_pred_lr))\n",
    "print(\"Random Forest \\t\", '\\t', mae(y_test, y_pred_rfr), '\\t', mse(y_test, y_pred_rfr), '\\t', R_squared(y_test, y_pred_rfr), '\\t', adjusted_r2(y_test, y_pred_rfr, num_predictors), '\\t\\t',mape(y_test, y_pred_rfr))\n",
    "print(\"Gradient Boosts \\t\", mae(y_test, y_pred_gbr), '\\t', mse(y_test, y_pred_gbr), '\\t', R_squared(y_test, y_pred_gbr), '\\t', adjusted_r2(y_test, y_pred_gbr, num_predictors), '\\t\\t', mape(y_test, y_pred_gbr))\n",
    "print(\"SVM Regressor \\t\", '\\t', mae(y_test, y_pred_svr), '\\t', mse(y_test, y_pred_svr), '\\t\\t', R_squared(y_test, y_pred_svr), '\\t', adjusted_r2(y_test, y_pred_svr, num_predictors), '\\t\\t', mape(y_test, y_pred_svr))\n",
    "print(\"XG Boosts \\t\", '\\t', mae(y_test, y_pred_xgb), '\\t', mse(y_test, y_pred_xgb), '\\t', R_squared(y_test, y_pred_xgb), '\\t', adjusted_r2(y_test, y_pred_xgb, num_predictors), '\\t\\t', mape(y_test, y_pred_xgb))\n",
    "print()\n",
    "\n",
    "metrics_reg_skl = ['Metrics with sklearn ', 'MAE ', ' MSE ', ' R2 ', 'Adjuted R2', 'MAPE']\n",
    "for i in metrics_reg_skl:\n",
    "    print(i, end='\\t')\n",
    "print()\n",
    "print(\"Linear Regression\", end='\\t') \n",
    "metrics_from_sklearn(y_test, y_pred_lr, num_predictors)\n",
    "print('\"Random Forest\\t', end='\\t')\n",
    "metrics_from_sklearn(y_test, y_pred_rfr, num_predictors)\n",
    "print('Gradient Boosts\\t', end='\\t')\n",
    "metrics_from_sklearn(y_test, y_pred_gbr, num_predictors)\n",
    "print('SVM Regressor\\t', end='\\t')\n",
    "metrics_from_sklearn(y_test, y_pred_svr, num_predictors)\n",
    "print('XG Boosts\\t', end='\\t')\n",
    "metrics_from_sklearn(y_test, y_pred_xgb, num_predictors)"
   ]
  },
  {
   "cell_type": "code",
   "execution_count": 29,
   "metadata": {},
   "outputs": [],
   "source": [
    "class Regression_metrics_formula:\n",
    "    def __init__(self, model_name, y_test, y_pred, num_predictors):\n",
    "        self.model_name = model_name\n",
    "        self.y_test = y_test\n",
    "        self.y_pred = y_pred\n",
    "        self.num_predictors = num_predictors\n",
    "        self.r_squared = None\n",
    "    \n",
    "    def mae(self):\n",
    "        error_mae = np.mean(np.abs(self.y_test - self.y_pred))\n",
    "        return round(error_mae, 4)\n",
    "    \n",
    "    def mse(self):\n",
    "        error_mse = np.mean((self.y_test - self.y_pred)**2)\n",
    "        return round(error_mse, 4)\n",
    "    \n",
    "    def R_squared(self):\n",
    "        mean_true_values = np.mean(self.y_test)\n",
    "        tss = np.mean((self.y_test - mean_true_values)**2)\n",
    "        rss = np.mean((self.y_test - self.y_pred)**2)\n",
    "        self.r_squared = 1 - (rss/tss)\n",
    "        return round(self.r_squared, 4)\n",
    "    \n",
    "    def adjusted_r2(self):\n",
    "        self.r_squared = self.R_squared()\n",
    "        \n",
    "        # Calculate the number of observations\n",
    "        n = len(self.y_test)\n",
    "        \n",
    "        # Calculate adjusted R-squared\n",
    "        adjusted_r_squared = np.mean(1 - ((1 - self.r_squared) * (n - 1) / (n - self.num_predictors - 1)))\n",
    "        \n",
    "        return round(adjusted_r_squared, 4)\n",
    "    \n",
    "    def mape(self):\n",
    "        error = np.mean(np.abs((scale(self.y_test) - scale(self.y_pred)) / scale(self.y_test))) * 100\n",
    "        return round(error, 4)\n",
    "    \n",
    "    def get_metrics(self):\n",
    "        return {\n",
    "            \"Model\": self.model_name,\n",
    "            'MAE': self.mae(),\n",
    "            \"MSE\": self.mse(),\n",
    "            \"R2_score\": self.R_squared(),\n",
    "            \"Adjusted R2\": self.adjusted_r2(),\n",
    "            \"MAPE\": self.mape()\n",
    "        }\n",
    "    "
   ]
  },
  {
   "cell_type": "code",
   "execution_count": 33,
   "metadata": {},
   "outputs": [],
   "source": [
    "class regression_metrics_sklearn:\n",
    "    def __init__(self,model_name, y_test, y_pred, num_predictors):\n",
    "        self.model_name = model_name\n",
    "        self.y_test = y_test\n",
    "        self.y_pred = y_pred\n",
    "        self.num_predictors = num_predictors\n",
    "        self.r2_score_s = None\n",
    "        \n",
    "    def mae_sklearn(self):\n",
    "        return mean_absolute_error(self.y_test, self.y_pred)\n",
    "    \n",
    "    def mse_sklearn(self):\n",
    "        return mean_squared_error(self.y_test, self.y_pred)\n",
    "    \n",
    "    def r2_score_sklearn(self):\n",
    "        self.r2_score_s = r2_score(self.y_test, self.y_pred)\n",
    "        return self.r2_score_s\n",
    "    \n",
    "    def adjusted_r2(self):\n",
    "        self.r2_score_s = self.r2_score_sklearn()\n",
    "        \n",
    "        # Calculate the number of observations\n",
    "        n = len(self.y_test)\n",
    "        \n",
    "        # Calculate adjusted R-squared\n",
    "        adjusted_r_squared = np.mean(1 - ((1 - self.r2_score_s) * (n - 1) / (n - self.num_predictors - 1)))\n",
    "        \n",
    "        return adjusted_r_squared\n",
    "    \n",
    "    def mape(self):\n",
    "        return mean_absolute_percentage_error(self.y_test, self.y_pred)\n",
    "        \n",
    "    def get_metrics(self):\n",
    "        return {\n",
    "            \"Model\": self.model_name,\n",
    "            'MAE': self.mae_sklearn(),\n",
    "            \"MSE\": self.mse_sklearn(),\n",
    "            \"R2_score\": self.r2_score_sklearn(),\n",
    "            \"Adjusted R2\": self.adjusted_r2(),\n",
    "            \"MAPE\": self.mape()\n",
    "        }"
   ]
  },
  {
   "cell_type": "code",
   "execution_count": 30,
   "metadata": {},
   "outputs": [
    {
     "name": "stdout",
     "output_type": "stream",
     "text": [
      "+---------------------------+--------+--------+----------+-------------+----------+\n",
      "|           Model           |  MAE   |  MSE   | R2_score | Adjusted R2 |   MAPE   |\n",
      "+---------------------------+--------+--------+----------+-------------+----------+\n",
      "|     Linear Rregression    | 0.6791 | 0.6053 |  0.214   |    0.2132   | 138.3684 |\n",
      "|  Random Forest Regressor  | 0.3263 | 0.279  |  0.6378  |    0.6374   |  43.958  |\n",
      "| Gradient Boosts Regressor | 0.3355 | 0.2647 |  0.6563  |    0.6559   | 45.7152  |\n",
      "|      Ridge Regression     | 0.6791 | 0.6053 |  0.214   |    0.2132   | 138.3698 |\n",
      "|       SVM Regressor       | 0.6777 | 0.608  |  0.2106  |    0.2097   | 137.6117 |\n",
      "|         XG Boosts         | 0.4621 | 0.4027 |  0.4771  |    0.4765   | 64.4678  |\n",
      "+---------------------------+--------+--------+----------+-------------+----------+\n"
     ]
    }
   ],
   "source": [
    "models = [\"Linear Rregression\", \"Random Forest Regressor\", \"Gradient Boosts Regressor\", \"Ridge Regression\", \"SVM Regressor\", \"XG Boosts\"]\n",
    "all_metrics = []\n",
    "num_predictors = X.shape[1]\n",
    "y_preds = np.array([y_pred_lr, y_pred_rfr, y_pred_gbr, y_pred_rg, y_pred_svr, y_pred_xgb])\n",
    "\n",
    "#for SVM Classifier\n",
    "for model, y_pred in zip(models, y_preds):\n",
    "    metrics = Regression_metrics_formula(model, y_test, y_pred, num_predictors)\n",
    "    all_metrics.append(metrics.get_metrics())\n",
    "\n",
    "# Create a PrettyTable for the final table\n",
    "table = PrettyTable()\n",
    "table.field_names = [\"Model\", \"MAE\", \"MSE\", \"R2_score\", \"Adjusted R2\", \"MAPE\"]\n",
    "\n",
    "# Add rows to the table\n",
    "for metrics in all_metrics:\n",
    "    table.add_row([metrics[\"Model\"], metrics[\"MAE\"], metrics[\"MSE\"], metrics[\"R2_score\"], metrics[\"Adjusted R2\"], metrics[\"MAPE\"]])\n",
    "\n",
    "# Print the final table\n",
    "print(table)"
   ]
  },
  {
   "cell_type": "code",
   "execution_count": 34,
   "metadata": {},
   "outputs": [
    {
     "name": "stdout",
     "output_type": "stream",
     "text": [
      "+---------------------------+---------------------+---------------------+---------------------+---------------------+--------------------+\n",
      "|           Model           |         MAE         |         MSE         |       R2_score      |     Adjusted R2     |        MAPE        |\n",
      "+---------------------------+---------------------+---------------------+---------------------+---------------------+--------------------+\n",
      "|     Linear Rregression    |  0.6790619544801199 |  0.6053479986771267 | 0.21401496209909776 | 0.21316763023417662 | 1233615611858540.8 |\n",
      "|  Random Forest Regressor  | 0.32626251749757723 | 0.27897839991385803 |  0.6377738941749109 |  0.6373833960013178 | 729018674255937.0  |\n",
      "| Gradient Boosts Regressor |  0.3354998105378756 | 0.26473187569303896 |  0.6562716093802585 |  0.6559010526848944 | 709630439051149.6  |\n",
      "|      Ridge Regression     |  0.6790674749627736 |  0.6053466079338703 | 0.21401676784289048 | 0.21316943792465304 | 1233631632055052.5 |\n",
      "|       SVM Regressor       |  0.6776849176329902 |  0.6079680912656933 | 0.21061302870371412 |  0.2097620293814887 | 1192119475020674.0 |\n",
      "|         XG Boosts         | 0.46206925707994134 | 0.40268939180902946 | 0.47714729779403053 | 0.47658363597621467 | 1000768920327548.8 |\n",
      "+---------------------------+---------------------+---------------------+---------------------+---------------------+--------------------+\n"
     ]
    }
   ],
   "source": [
    "models = [\"Linear Rregression\", \"Random Forest Regressor\", \"Gradient Boosts Regressor\", \"Ridge Regression\", \"SVM Regressor\", \"XG Boosts\"]\n",
    "all_metrics = []\n",
    "num_predictors = X.shape[1]\n",
    "y_preds = np.array([y_pred_lr, y_pred_rfr, y_pred_gbr, y_pred_rg, y_pred_svr, y_pred_xgb])\n",
    "\n",
    "#for SVM Classifier\n",
    "for model, y_pred in zip(models, y_preds):\n",
    "    metrics = regression_metrics_sklearn(model, y_test, y_pred, num_predictors)\n",
    "    all_metrics.append(metrics.get_metrics())\n",
    "\n",
    "# Create a PrettyTable for the final table\n",
    "table = PrettyTable()\n",
    "table.field_names = [\"Model\", \"MAE\", \"MSE\", \"R2_score\", \"Adjusted R2\", \"MAPE\"]\n",
    "\n",
    "# Add rows to the table\n",
    "for metrics in all_metrics:\n",
    "    table.add_row([metrics[\"Model\"], metrics[\"MAE\"], metrics[\"MSE\"], metrics[\"R2_score\"], metrics[\"Adjusted R2\"], metrics[\"MAPE\"]])\n",
    "\n",
    "# Print the final table\n",
    "print(table)"
   ]
  },
  {
   "cell_type": "code",
   "execution_count": null,
   "metadata": {},
   "outputs": [],
   "source": []
  },
  {
   "cell_type": "code",
   "execution_count": null,
   "metadata": {},
   "outputs": [],
   "source": []
  },
  {
   "cell_type": "code",
   "execution_count": null,
   "metadata": {},
   "outputs": [],
   "source": []
  },
  {
   "cell_type": "code",
   "execution_count": 116,
   "metadata": {},
   "outputs": [
    {
     "data": {
      "text/plain": [
       "Formatted Date              0\n",
       "Summary                     0\n",
       "Precip Type                 0\n",
       "Temperature (C)             0\n",
       "Apparent Temperature (C)    0\n",
       "Humidity                    0\n",
       "Wind Speed (km/h)           0\n",
       "Wind Bearing (degrees)      0\n",
       "Visibility (km)             0\n",
       "Loud Cover                  0\n",
       "Pressure (millibars)        0\n",
       "Daily Summary               0\n",
       "dtype: int64"
      ]
     },
     "execution_count": 116,
     "metadata": {},
     "output_type": "execute_result"
    }
   ],
   "source": [
    "df = pd.read_csv('weatherHistory.csv')\n",
    "df.dropna(inplace=True)\n",
    "df.isnull().sum()\n"
   ]
  },
  {
   "cell_type": "code",
   "execution_count": 118,
   "metadata": {},
   "outputs": [
    {
     "data": {
      "text/html": [
       "<div>\n",
       "<style scoped>\n",
       "    .dataframe tbody tr th:only-of-type {\n",
       "        vertical-align: middle;\n",
       "    }\n",
       "\n",
       "    .dataframe tbody tr th {\n",
       "        vertical-align: top;\n",
       "    }\n",
       "\n",
       "    .dataframe thead th {\n",
       "        text-align: right;\n",
       "    }\n",
       "</style>\n",
       "<table border=\"1\" class=\"dataframe\">\n",
       "  <thead>\n",
       "    <tr style=\"text-align: right;\">\n",
       "      <th></th>\n",
       "      <th>Formatted Date</th>\n",
       "      <th>Summary</th>\n",
       "      <th>Precip Type</th>\n",
       "      <th>Temperature (C)</th>\n",
       "      <th>Apparent Temperature (C)</th>\n",
       "      <th>Humidity</th>\n",
       "      <th>Wind Speed (km/h)</th>\n",
       "      <th>Wind Bearing (degrees)</th>\n",
       "      <th>Visibility (km)</th>\n",
       "      <th>Loud Cover</th>\n",
       "      <th>Pressure (millibars)</th>\n",
       "      <th>Daily Summary</th>\n",
       "      <th>Date</th>\n",
       "      <th>Time</th>\n",
       "      <th>Year</th>\n",
       "      <th>Month</th>\n",
       "      <th>Day</th>\n",
       "    </tr>\n",
       "  </thead>\n",
       "  <tbody>\n",
       "    <tr>\n",
       "      <th>0</th>\n",
       "      <td>2006-03-31 22:00:00+00:00</td>\n",
       "      <td>Partly Cloudy</td>\n",
       "      <td>rain</td>\n",
       "      <td>9.472222</td>\n",
       "      <td>7.388889</td>\n",
       "      <td>0.89</td>\n",
       "      <td>14.1197</td>\n",
       "      <td>251.0</td>\n",
       "      <td>15.8263</td>\n",
       "      <td>0.0</td>\n",
       "      <td>1015.13</td>\n",
       "      <td>Partly cloudy throughout the day.</td>\n",
       "      <td>2006-03-31</td>\n",
       "      <td>22</td>\n",
       "      <td>2006</td>\n",
       "      <td>3</td>\n",
       "      <td>31</td>\n",
       "    </tr>\n",
       "    <tr>\n",
       "      <th>1</th>\n",
       "      <td>2006-03-31 23:00:00+00:00</td>\n",
       "      <td>Partly Cloudy</td>\n",
       "      <td>rain</td>\n",
       "      <td>9.355556</td>\n",
       "      <td>7.227778</td>\n",
       "      <td>0.86</td>\n",
       "      <td>14.2646</td>\n",
       "      <td>259.0</td>\n",
       "      <td>15.8263</td>\n",
       "      <td>0.0</td>\n",
       "      <td>1015.63</td>\n",
       "      <td>Partly cloudy throughout the day.</td>\n",
       "      <td>2006-03-31</td>\n",
       "      <td>23</td>\n",
       "      <td>2006</td>\n",
       "      <td>3</td>\n",
       "      <td>31</td>\n",
       "    </tr>\n",
       "    <tr>\n",
       "      <th>2</th>\n",
       "      <td>2006-04-01 00:00:00+00:00</td>\n",
       "      <td>Mostly Cloudy</td>\n",
       "      <td>rain</td>\n",
       "      <td>9.377778</td>\n",
       "      <td>9.377778</td>\n",
       "      <td>0.89</td>\n",
       "      <td>3.9284</td>\n",
       "      <td>204.0</td>\n",
       "      <td>14.9569</td>\n",
       "      <td>0.0</td>\n",
       "      <td>1015.94</td>\n",
       "      <td>Partly cloudy throughout the day.</td>\n",
       "      <td>2006-04-01</td>\n",
       "      <td>0</td>\n",
       "      <td>2006</td>\n",
       "      <td>4</td>\n",
       "      <td>1</td>\n",
       "    </tr>\n",
       "    <tr>\n",
       "      <th>3</th>\n",
       "      <td>2006-04-01 01:00:00+00:00</td>\n",
       "      <td>Partly Cloudy</td>\n",
       "      <td>rain</td>\n",
       "      <td>8.288889</td>\n",
       "      <td>5.944444</td>\n",
       "      <td>0.83</td>\n",
       "      <td>14.1036</td>\n",
       "      <td>269.0</td>\n",
       "      <td>15.8263</td>\n",
       "      <td>0.0</td>\n",
       "      <td>1016.41</td>\n",
       "      <td>Partly cloudy throughout the day.</td>\n",
       "      <td>2006-04-01</td>\n",
       "      <td>1</td>\n",
       "      <td>2006</td>\n",
       "      <td>4</td>\n",
       "      <td>1</td>\n",
       "    </tr>\n",
       "    <tr>\n",
       "      <th>4</th>\n",
       "      <td>2006-04-01 02:00:00+00:00</td>\n",
       "      <td>Mostly Cloudy</td>\n",
       "      <td>rain</td>\n",
       "      <td>8.755556</td>\n",
       "      <td>6.977778</td>\n",
       "      <td>0.83</td>\n",
       "      <td>11.0446</td>\n",
       "      <td>259.0</td>\n",
       "      <td>15.8263</td>\n",
       "      <td>0.0</td>\n",
       "      <td>1016.51</td>\n",
       "      <td>Partly cloudy throughout the day.</td>\n",
       "      <td>2006-04-01</td>\n",
       "      <td>2</td>\n",
       "      <td>2006</td>\n",
       "      <td>4</td>\n",
       "      <td>1</td>\n",
       "    </tr>\n",
       "    <tr>\n",
       "      <th>...</th>\n",
       "      <td>...</td>\n",
       "      <td>...</td>\n",
       "      <td>...</td>\n",
       "      <td>...</td>\n",
       "      <td>...</td>\n",
       "      <td>...</td>\n",
       "      <td>...</td>\n",
       "      <td>...</td>\n",
       "      <td>...</td>\n",
       "      <td>...</td>\n",
       "      <td>...</td>\n",
       "      <td>...</td>\n",
       "      <td>...</td>\n",
       "      <td>...</td>\n",
       "      <td>...</td>\n",
       "      <td>...</td>\n",
       "      <td>...</td>\n",
       "    </tr>\n",
       "    <tr>\n",
       "      <th>96448</th>\n",
       "      <td>2016-09-09 17:00:00+00:00</td>\n",
       "      <td>Partly Cloudy</td>\n",
       "      <td>rain</td>\n",
       "      <td>26.016667</td>\n",
       "      <td>26.016667</td>\n",
       "      <td>0.43</td>\n",
       "      <td>10.9963</td>\n",
       "      <td>31.0</td>\n",
       "      <td>16.1000</td>\n",
       "      <td>0.0</td>\n",
       "      <td>1014.36</td>\n",
       "      <td>Partly cloudy starting in the morning.</td>\n",
       "      <td>2016-09-09</td>\n",
       "      <td>17</td>\n",
       "      <td>2016</td>\n",
       "      <td>9</td>\n",
       "      <td>9</td>\n",
       "    </tr>\n",
       "    <tr>\n",
       "      <th>96449</th>\n",
       "      <td>2016-09-09 18:00:00+00:00</td>\n",
       "      <td>Partly Cloudy</td>\n",
       "      <td>rain</td>\n",
       "      <td>24.583333</td>\n",
       "      <td>24.583333</td>\n",
       "      <td>0.48</td>\n",
       "      <td>10.0947</td>\n",
       "      <td>20.0</td>\n",
       "      <td>15.5526</td>\n",
       "      <td>0.0</td>\n",
       "      <td>1015.16</td>\n",
       "      <td>Partly cloudy starting in the morning.</td>\n",
       "      <td>2016-09-09</td>\n",
       "      <td>18</td>\n",
       "      <td>2016</td>\n",
       "      <td>9</td>\n",
       "      <td>9</td>\n",
       "    </tr>\n",
       "    <tr>\n",
       "      <th>96450</th>\n",
       "      <td>2016-09-09 19:00:00+00:00</td>\n",
       "      <td>Partly Cloudy</td>\n",
       "      <td>rain</td>\n",
       "      <td>22.038889</td>\n",
       "      <td>22.038889</td>\n",
       "      <td>0.56</td>\n",
       "      <td>8.9838</td>\n",
       "      <td>30.0</td>\n",
       "      <td>16.1000</td>\n",
       "      <td>0.0</td>\n",
       "      <td>1015.66</td>\n",
       "      <td>Partly cloudy starting in the morning.</td>\n",
       "      <td>2016-09-09</td>\n",
       "      <td>19</td>\n",
       "      <td>2016</td>\n",
       "      <td>9</td>\n",
       "      <td>9</td>\n",
       "    </tr>\n",
       "    <tr>\n",
       "      <th>96451</th>\n",
       "      <td>2016-09-09 20:00:00+00:00</td>\n",
       "      <td>Partly Cloudy</td>\n",
       "      <td>rain</td>\n",
       "      <td>21.522222</td>\n",
       "      <td>21.522222</td>\n",
       "      <td>0.60</td>\n",
       "      <td>10.5294</td>\n",
       "      <td>20.0</td>\n",
       "      <td>16.1000</td>\n",
       "      <td>0.0</td>\n",
       "      <td>1015.95</td>\n",
       "      <td>Partly cloudy starting in the morning.</td>\n",
       "      <td>2016-09-09</td>\n",
       "      <td>20</td>\n",
       "      <td>2016</td>\n",
       "      <td>9</td>\n",
       "      <td>9</td>\n",
       "    </tr>\n",
       "    <tr>\n",
       "      <th>96452</th>\n",
       "      <td>2016-09-09 21:00:00+00:00</td>\n",
       "      <td>Partly Cloudy</td>\n",
       "      <td>rain</td>\n",
       "      <td>20.438889</td>\n",
       "      <td>20.438889</td>\n",
       "      <td>0.61</td>\n",
       "      <td>5.8765</td>\n",
       "      <td>39.0</td>\n",
       "      <td>15.5204</td>\n",
       "      <td>0.0</td>\n",
       "      <td>1016.16</td>\n",
       "      <td>Partly cloudy starting in the morning.</td>\n",
       "      <td>2016-09-09</td>\n",
       "      <td>21</td>\n",
       "      <td>2016</td>\n",
       "      <td>9</td>\n",
       "      <td>9</td>\n",
       "    </tr>\n",
       "  </tbody>\n",
       "</table>\n",
       "<p>95936 rows × 17 columns</p>\n",
       "</div>"
      ],
      "text/plain": [
       "                 Formatted Date        Summary Precip Type  Temperature (C)  \\\n",
       "0     2006-03-31 22:00:00+00:00  Partly Cloudy        rain         9.472222   \n",
       "1     2006-03-31 23:00:00+00:00  Partly Cloudy        rain         9.355556   \n",
       "2     2006-04-01 00:00:00+00:00  Mostly Cloudy        rain         9.377778   \n",
       "3     2006-04-01 01:00:00+00:00  Partly Cloudy        rain         8.288889   \n",
       "4     2006-04-01 02:00:00+00:00  Mostly Cloudy        rain         8.755556   \n",
       "...                         ...            ...         ...              ...   \n",
       "96448 2016-09-09 17:00:00+00:00  Partly Cloudy        rain        26.016667   \n",
       "96449 2016-09-09 18:00:00+00:00  Partly Cloudy        rain        24.583333   \n",
       "96450 2016-09-09 19:00:00+00:00  Partly Cloudy        rain        22.038889   \n",
       "96451 2016-09-09 20:00:00+00:00  Partly Cloudy        rain        21.522222   \n",
       "96452 2016-09-09 21:00:00+00:00  Partly Cloudy        rain        20.438889   \n",
       "\n",
       "       Apparent Temperature (C)  Humidity  Wind Speed (km/h)  \\\n",
       "0                      7.388889      0.89            14.1197   \n",
       "1                      7.227778      0.86            14.2646   \n",
       "2                      9.377778      0.89             3.9284   \n",
       "3                      5.944444      0.83            14.1036   \n",
       "4                      6.977778      0.83            11.0446   \n",
       "...                         ...       ...                ...   \n",
       "96448                 26.016667      0.43            10.9963   \n",
       "96449                 24.583333      0.48            10.0947   \n",
       "96450                 22.038889      0.56             8.9838   \n",
       "96451                 21.522222      0.60            10.5294   \n",
       "96452                 20.438889      0.61             5.8765   \n",
       "\n",
       "       Wind Bearing (degrees)  Visibility (km)  Loud Cover  \\\n",
       "0                       251.0          15.8263         0.0   \n",
       "1                       259.0          15.8263         0.0   \n",
       "2                       204.0          14.9569         0.0   \n",
       "3                       269.0          15.8263         0.0   \n",
       "4                       259.0          15.8263         0.0   \n",
       "...                       ...              ...         ...   \n",
       "96448                    31.0          16.1000         0.0   \n",
       "96449                    20.0          15.5526         0.0   \n",
       "96450                    30.0          16.1000         0.0   \n",
       "96451                    20.0          16.1000         0.0   \n",
       "96452                    39.0          15.5204         0.0   \n",
       "\n",
       "       Pressure (millibars)                           Daily Summary  \\\n",
       "0                   1015.13       Partly cloudy throughout the day.   \n",
       "1                   1015.63       Partly cloudy throughout the day.   \n",
       "2                   1015.94       Partly cloudy throughout the day.   \n",
       "3                   1016.41       Partly cloudy throughout the day.   \n",
       "4                   1016.51       Partly cloudy throughout the day.   \n",
       "...                     ...                                     ...   \n",
       "96448               1014.36  Partly cloudy starting in the morning.   \n",
       "96449               1015.16  Partly cloudy starting in the morning.   \n",
       "96450               1015.66  Partly cloudy starting in the morning.   \n",
       "96451               1015.95  Partly cloudy starting in the morning.   \n",
       "96452               1016.16  Partly cloudy starting in the morning.   \n",
       "\n",
       "             Date  Time  Year  Month  Day  \n",
       "0      2006-03-31    22  2006      3   31  \n",
       "1      2006-03-31    23  2006      3   31  \n",
       "2      2006-04-01     0  2006      4    1  \n",
       "3      2006-04-01     1  2006      4    1  \n",
       "4      2006-04-01     2  2006      4    1  \n",
       "...           ...   ...   ...    ...  ...  \n",
       "96448  2016-09-09    17  2016      9    9  \n",
       "96449  2016-09-09    18  2016      9    9  \n",
       "96450  2016-09-09    19  2016      9    9  \n",
       "96451  2016-09-09    20  2016      9    9  \n",
       "96452  2016-09-09    21  2016      9    9  \n",
       "\n",
       "[95936 rows x 17 columns]"
      ]
     },
     "execution_count": 118,
     "metadata": {},
     "output_type": "execute_result"
    }
   ],
   "source": [
    "df['Formatted Date'] = pd.to_datetime(df['Formatted Date'], utc=True, errors='coerce')\n",
    "df['Time'] = [d.time() for d in df['Formatted Date']]\n",
    "df[\"Time\"] = df[\"Time\"].astype(str)\n",
    "df[\"Time\"] = df[\"Time\"].str.split(':').str[0].astype(int)\n",
    "df[\"Date\"] = [d.date() for d in df['Formatted Date']]\n",
    "df[\"Date\"]= df[\"Date\"].astype(str)\n",
    "df[\"Year\"] = df[\"Date\"].str.split('-').str[0].astype(int)\n",
    "df[\"Month\"] = df[\"Date\"].str.split('-').str[1].astype(int)\n",
    "df[\"Day\"] = df[\"Date\"].str.split('-').str[2].astype(int)\n",
    "df"
   ]
  },
  {
   "cell_type": "code",
   "execution_count": 119,
   "metadata": {},
   "outputs": [],
   "source": [
    "def remove_outliers(df, feature):\n",
    "    \"\"\"\n",
    "    Remove Outliers using IRQ method\n",
    "    \n",
    "    df: dataframe\n",
    "    feature: dataframe column\"\"\"\n",
    "    q1 = df[feature].quantile(0.25)\n",
    "    q3 = df[feature].quantile(0.75)\n",
    "    iqr = q3 - q1\n",
    "    upper_bound = q3 + 1.5 * iqr\n",
    "    lower_bound = q1 - 1.5 * iqr\n",
    "    df = df[(df[feature] >= lower_bound) & (df[feature] <= upper_bound)]\n",
    "    return df"
   ]
  },
  {
   "cell_type": "code",
   "execution_count": 121,
   "metadata": {},
   "outputs": [
    {
     "data": {
      "image/png": "[encoded data removed]",
      "text/plain": [
       "<Figure size 1800x800 with 1 Axes>"
      ]
     },
     "metadata": {},
     "output_type": "display_data"
    }
   ],
   "source": [
    "df = remove_outliers(df, \"Pressure (millibars)\")\n",
    "df = remove_outliers(df, \"Wind Speed (km/h)\")\n",
    "df = remove_outliers(df, \"Humidity\")\n",
    "df = remove_outliers(df, \"Temperature (C)\")\n",
    "df = remove_outliers(df, \"Apparent Temperature (C)\")\n",
    "\n",
    "plt.figure(figsize=(18, 8)) \n",
    "sns.boxplot(data=df)\n",
    "plt.show()"
   ]
  },
  {
   "cell_type": "code",
   "execution_count": 122,
   "metadata": {},
   "outputs": [
    {
     "data": {
      "text/plain": [
       "0"
      ]
     },
     "execution_count": 122,
     "metadata": {},
     "output_type": "execute_result"
    }
   ],
   "source": [
    "df.drop_duplicates(inplace=True)\n",
    "df.duplicated().sum()"
   ]
  },
  {
   "cell_type": "code",
   "execution_count": 123,
   "metadata": {},
   "outputs": [
    {
     "data": {
      "text/html": [
       "<div>\n",
       "<style scoped>\n",
       "    .dataframe tbody tr th:only-of-type {\n",
       "        vertical-align: middle;\n",
       "    }\n",
       "\n",
       "    .dataframe tbody tr th {\n",
       "        vertical-align: top;\n",
       "    }\n",
       "\n",
       "    .dataframe thead th {\n",
       "        text-align: right;\n",
       "    }\n",
       "</style>\n",
       "<table border=\"1\" class=\"dataframe\">\n",
       "  <thead>\n",
       "    <tr style=\"text-align: right;\">\n",
       "      <th></th>\n",
       "      <th>Formatted Date</th>\n",
       "      <th>Summary</th>\n",
       "      <th>Precip Type</th>\n",
       "      <th>Temperature (C)</th>\n",
       "      <th>Apparent Temperature (C)</th>\n",
       "      <th>Humidity</th>\n",
       "      <th>Wind Speed (km/h)</th>\n",
       "      <th>Wind Bearing (degrees)</th>\n",
       "      <th>Visibility (km)</th>\n",
       "      <th>Loud Cover</th>\n",
       "      <th>Pressure (millibars)</th>\n",
       "      <th>Daily Summary</th>\n",
       "      <th>Date</th>\n",
       "      <th>Time</th>\n",
       "      <th>Year</th>\n",
       "      <th>Month</th>\n",
       "      <th>Day</th>\n",
       "    </tr>\n",
       "  </thead>\n",
       "  <tbody>\n",
       "    <tr>\n",
       "      <th>0</th>\n",
       "      <td>2006-03-31 22:00:00+00:00</td>\n",
       "      <td>Partly Cloudy</td>\n",
       "      <td>rain</td>\n",
       "      <td>9.47</td>\n",
       "      <td>7.39</td>\n",
       "      <td>0.89</td>\n",
       "      <td>14.12</td>\n",
       "      <td>251.0</td>\n",
       "      <td>15.83</td>\n",
       "      <td>0.0</td>\n",
       "      <td>1015.13</td>\n",
       "      <td>Partly cloudy throughout the day.</td>\n",
       "      <td>2006-03-31</td>\n",
       "      <td>22</td>\n",
       "      <td>2006</td>\n",
       "      <td>3</td>\n",
       "      <td>31</td>\n",
       "    </tr>\n",
       "    <tr>\n",
       "      <th>1</th>\n",
       "      <td>2006-03-31 23:00:00+00:00</td>\n",
       "      <td>Partly Cloudy</td>\n",
       "      <td>rain</td>\n",
       "      <td>9.36</td>\n",
       "      <td>7.23</td>\n",
       "      <td>0.86</td>\n",
       "      <td>14.26</td>\n",
       "      <td>259.0</td>\n",
       "      <td>15.83</td>\n",
       "      <td>0.0</td>\n",
       "      <td>1015.63</td>\n",
       "      <td>Partly cloudy throughout the day.</td>\n",
       "      <td>2006-03-31</td>\n",
       "      <td>23</td>\n",
       "      <td>2006</td>\n",
       "      <td>3</td>\n",
       "      <td>31</td>\n",
       "    </tr>\n",
       "    <tr>\n",
       "      <th>2</th>\n",
       "      <td>2006-04-01 00:00:00+00:00</td>\n",
       "      <td>Mostly Cloudy</td>\n",
       "      <td>rain</td>\n",
       "      <td>9.38</td>\n",
       "      <td>9.38</td>\n",
       "      <td>0.89</td>\n",
       "      <td>3.93</td>\n",
       "      <td>204.0</td>\n",
       "      <td>14.96</td>\n",
       "      <td>0.0</td>\n",
       "      <td>1015.94</td>\n",
       "      <td>Partly cloudy throughout the day.</td>\n",
       "      <td>2006-04-01</td>\n",
       "      <td>0</td>\n",
       "      <td>2006</td>\n",
       "      <td>4</td>\n",
       "      <td>1</td>\n",
       "    </tr>\n",
       "    <tr>\n",
       "      <th>3</th>\n",
       "      <td>2006-04-01 01:00:00+00:00</td>\n",
       "      <td>Partly Cloudy</td>\n",
       "      <td>rain</td>\n",
       "      <td>8.29</td>\n",
       "      <td>5.94</td>\n",
       "      <td>0.83</td>\n",
       "      <td>14.10</td>\n",
       "      <td>269.0</td>\n",
       "      <td>15.83</td>\n",
       "      <td>0.0</td>\n",
       "      <td>1016.41</td>\n",
       "      <td>Partly cloudy throughout the day.</td>\n",
       "      <td>2006-04-01</td>\n",
       "      <td>1</td>\n",
       "      <td>2006</td>\n",
       "      <td>4</td>\n",
       "      <td>1</td>\n",
       "    </tr>\n",
       "    <tr>\n",
       "      <th>4</th>\n",
       "      <td>2006-04-01 02:00:00+00:00</td>\n",
       "      <td>Mostly Cloudy</td>\n",
       "      <td>rain</td>\n",
       "      <td>8.76</td>\n",
       "      <td>6.98</td>\n",
       "      <td>0.83</td>\n",
       "      <td>11.04</td>\n",
       "      <td>259.0</td>\n",
       "      <td>15.83</td>\n",
       "      <td>0.0</td>\n",
       "      <td>1016.51</td>\n",
       "      <td>Partly cloudy throughout the day.</td>\n",
       "      <td>2006-04-01</td>\n",
       "      <td>2</td>\n",
       "      <td>2006</td>\n",
       "      <td>4</td>\n",
       "      <td>1</td>\n",
       "    </tr>\n",
       "  </tbody>\n",
       "</table>\n",
       "</div>"
      ],
      "text/plain": [
       "             Formatted Date        Summary Precip Type  Temperature (C)  \\\n",
       "0 2006-03-31 22:00:00+00:00  Partly Cloudy        rain             9.47   \n",
       "1 2006-03-31 23:00:00+00:00  Partly Cloudy        rain             9.36   \n",
       "2 2006-04-01 00:00:00+00:00  Mostly Cloudy        rain             9.38   \n",
       "3 2006-04-01 01:00:00+00:00  Partly Cloudy        rain             8.29   \n",
       "4 2006-04-01 02:00:00+00:00  Mostly Cloudy        rain             8.76   \n",
       "\n",
       "   Apparent Temperature (C)  Humidity  Wind Speed (km/h)  \\\n",
       "0                      7.39      0.89              14.12   \n",
       "1                      7.23      0.86              14.26   \n",
       "2                      9.38      0.89               3.93   \n",
       "3                      5.94      0.83              14.10   \n",
       "4                      6.98      0.83              11.04   \n",
       "\n",
       "   Wind Bearing (degrees)  Visibility (km)  Loud Cover  Pressure (millibars)  \\\n",
       "0                   251.0            15.83         0.0               1015.13   \n",
       "1                   259.0            15.83         0.0               1015.63   \n",
       "2                   204.0            14.96         0.0               1015.94   \n",
       "3                   269.0            15.83         0.0               1016.41   \n",
       "4                   259.0            15.83         0.0               1016.51   \n",
       "\n",
       "                       Daily Summary        Date  Time  Year  Month  Day  \n",
       "0  Partly cloudy throughout the day.  2006-03-31    22  2006      3   31  \n",
       "1  Partly cloudy throughout the day.  2006-03-31    23  2006      3   31  \n",
       "2  Partly cloudy throughout the day.  2006-04-01     0  2006      4    1  \n",
       "3  Partly cloudy throughout the day.  2006-04-01     1  2006      4    1  \n",
       "4  Partly cloudy throughout the day.  2006-04-01     2  2006      4    1  "
      ]
     },
     "execution_count": 123,
     "metadata": {},
     "output_type": "execute_result"
    }
   ],
   "source": [
    "float_cols = df.select_dtypes(include='float')\n",
    "df[float_cols.columns] = float_cols.round(2)\n",
    "df.head()"
   ]
  },
  {
   "cell_type": "code",
   "execution_count": 124,
   "metadata": {},
   "outputs": [],
   "source": [
    "df = df.drop(['Formatted Date', 'Daily Summary', 'Date', 'Apparent Temperature (C)', 'Loud Cover', 'Pressure (millibars)'], axis=1)"
   ]
  },
  {
   "cell_type": "code",
   "execution_count": 125,
   "metadata": {},
   "outputs": [
    {
     "data": {
      "text/html": [
       "<div>\n",
       "<style scoped>\n",
       "    .dataframe tbody tr th:only-of-type {\n",
       "        vertical-align: middle;\n",
       "    }\n",
       "\n",
       "    .dataframe tbody tr th {\n",
       "        vertical-align: top;\n",
       "    }\n",
       "\n",
       "    .dataframe thead th {\n",
       "        text-align: right;\n",
       "    }\n",
       "</style>\n",
       "<table border=\"1\" class=\"dataframe\">\n",
       "  <thead>\n",
       "    <tr style=\"text-align: right;\">\n",
       "      <th></th>\n",
       "      <th>Summary</th>\n",
       "      <th>Precip Type</th>\n",
       "      <th>Temperature (C)</th>\n",
       "      <th>Humidity</th>\n",
       "      <th>Wind Speed (km/h)</th>\n",
       "      <th>Wind Bearing (degrees)</th>\n",
       "      <th>Visibility (km)</th>\n",
       "      <th>Time</th>\n",
       "      <th>Year</th>\n",
       "      <th>Month</th>\n",
       "      <th>Day</th>\n",
       "    </tr>\n",
       "  </thead>\n",
       "  <tbody>\n",
       "    <tr>\n",
       "      <th>0</th>\n",
       "      <td>Partly Cloudy</td>\n",
       "      <td>0</td>\n",
       "      <td>9.47</td>\n",
       "      <td>0.89</td>\n",
       "      <td>14.12</td>\n",
       "      <td>251.0</td>\n",
       "      <td>15.83</td>\n",
       "      <td>22</td>\n",
       "      <td>2006</td>\n",
       "      <td>3</td>\n",
       "      <td>31</td>\n",
       "    </tr>\n",
       "    <tr>\n",
       "      <th>1</th>\n",
       "      <td>Partly Cloudy</td>\n",
       "      <td>0</td>\n",
       "      <td>9.36</td>\n",
       "      <td>0.86</td>\n",
       "      <td>14.26</td>\n",
       "      <td>259.0</td>\n",
       "      <td>15.83</td>\n",
       "      <td>23</td>\n",
       "      <td>2006</td>\n",
       "      <td>3</td>\n",
       "      <td>31</td>\n",
       "    </tr>\n",
       "    <tr>\n",
       "      <th>2</th>\n",
       "      <td>Mostly Cloudy</td>\n",
       "      <td>0</td>\n",
       "      <td>9.38</td>\n",
       "      <td>0.89</td>\n",
       "      <td>3.93</td>\n",
       "      <td>204.0</td>\n",
       "      <td>14.96</td>\n",
       "      <td>0</td>\n",
       "      <td>2006</td>\n",
       "      <td>4</td>\n",
       "      <td>1</td>\n",
       "    </tr>\n",
       "    <tr>\n",
       "      <th>3</th>\n",
       "      <td>Partly Cloudy</td>\n",
       "      <td>0</td>\n",
       "      <td>8.29</td>\n",
       "      <td>0.83</td>\n",
       "      <td>14.10</td>\n",
       "      <td>269.0</td>\n",
       "      <td>15.83</td>\n",
       "      <td>1</td>\n",
       "      <td>2006</td>\n",
       "      <td>4</td>\n",
       "      <td>1</td>\n",
       "    </tr>\n",
       "    <tr>\n",
       "      <th>4</th>\n",
       "      <td>Mostly Cloudy</td>\n",
       "      <td>0</td>\n",
       "      <td>8.76</td>\n",
       "      <td>0.83</td>\n",
       "      <td>11.04</td>\n",
       "      <td>259.0</td>\n",
       "      <td>15.83</td>\n",
       "      <td>2</td>\n",
       "      <td>2006</td>\n",
       "      <td>4</td>\n",
       "      <td>1</td>\n",
       "    </tr>\n",
       "    <tr>\n",
       "      <th>...</th>\n",
       "      <td>...</td>\n",
       "      <td>...</td>\n",
       "      <td>...</td>\n",
       "      <td>...</td>\n",
       "      <td>...</td>\n",
       "      <td>...</td>\n",
       "      <td>...</td>\n",
       "      <td>...</td>\n",
       "      <td>...</td>\n",
       "      <td>...</td>\n",
       "      <td>...</td>\n",
       "    </tr>\n",
       "    <tr>\n",
       "      <th>96448</th>\n",
       "      <td>Partly Cloudy</td>\n",
       "      <td>0</td>\n",
       "      <td>26.02</td>\n",
       "      <td>0.43</td>\n",
       "      <td>11.00</td>\n",
       "      <td>31.0</td>\n",
       "      <td>16.10</td>\n",
       "      <td>17</td>\n",
       "      <td>2016</td>\n",
       "      <td>9</td>\n",
       "      <td>9</td>\n",
       "    </tr>\n",
       "    <tr>\n",
       "      <th>96449</th>\n",
       "      <td>Partly Cloudy</td>\n",
       "      <td>0</td>\n",
       "      <td>24.58</td>\n",
       "      <td>0.48</td>\n",
       "      <td>10.09</td>\n",
       "      <td>20.0</td>\n",
       "      <td>15.55</td>\n",
       "      <td>18</td>\n",
       "      <td>2016</td>\n",
       "      <td>9</td>\n",
       "      <td>9</td>\n",
       "    </tr>\n",
       "    <tr>\n",
       "      <th>96450</th>\n",
       "      <td>Partly Cloudy</td>\n",
       "      <td>0</td>\n",
       "      <td>22.04</td>\n",
       "      <td>0.56</td>\n",
       "      <td>8.98</td>\n",
       "      <td>30.0</td>\n",
       "      <td>16.10</td>\n",
       "      <td>19</td>\n",
       "      <td>2016</td>\n",
       "      <td>9</td>\n",
       "      <td>9</td>\n",
       "    </tr>\n",
       "    <tr>\n",
       "      <th>96451</th>\n",
       "      <td>Partly Cloudy</td>\n",
       "      <td>0</td>\n",
       "      <td>21.52</td>\n",
       "      <td>0.60</td>\n",
       "      <td>10.53</td>\n",
       "      <td>20.0</td>\n",
       "      <td>16.10</td>\n",
       "      <td>20</td>\n",
       "      <td>2016</td>\n",
       "      <td>9</td>\n",
       "      <td>9</td>\n",
       "    </tr>\n",
       "    <tr>\n",
       "      <th>96452</th>\n",
       "      <td>Partly Cloudy</td>\n",
       "      <td>0</td>\n",
       "      <td>20.44</td>\n",
       "      <td>0.61</td>\n",
       "      <td>5.88</td>\n",
       "      <td>39.0</td>\n",
       "      <td>15.52</td>\n",
       "      <td>21</td>\n",
       "      <td>2016</td>\n",
       "      <td>9</td>\n",
       "      <td>9</td>\n",
       "    </tr>\n",
       "  </tbody>\n",
       "</table>\n",
       "<p>88651 rows × 11 columns</p>\n",
       "</div>"
      ],
      "text/plain": [
       "             Summary  Precip Type  Temperature (C)  Humidity  \\\n",
       "0      Partly Cloudy            0             9.47      0.89   \n",
       "1      Partly Cloudy            0             9.36      0.86   \n",
       "2      Mostly Cloudy            0             9.38      0.89   \n",
       "3      Partly Cloudy            0             8.29      0.83   \n",
       "4      Mostly Cloudy            0             8.76      0.83   \n",
       "...              ...          ...              ...       ...   \n",
       "96448  Partly Cloudy            0            26.02      0.43   \n",
       "96449  Partly Cloudy            0            24.58      0.48   \n",
       "96450  Partly Cloudy            0            22.04      0.56   \n",
       "96451  Partly Cloudy            0            21.52      0.60   \n",
       "96452  Partly Cloudy            0            20.44      0.61   \n",
       "\n",
       "       Wind Speed (km/h)  Wind Bearing (degrees)  Visibility (km)  Time  Year  \\\n",
       "0                  14.12                   251.0            15.83    22  2006   \n",
       "1                  14.26                   259.0            15.83    23  2006   \n",
       "2                   3.93                   204.0            14.96     0  2006   \n",
       "3                  14.10                   269.0            15.83     1  2006   \n",
       "4                  11.04                   259.0            15.83     2  2006   \n",
       "...                  ...                     ...              ...   ...   ...   \n",
       "96448              11.00                    31.0            16.10    17  2016   \n",
       "96449              10.09                    20.0            15.55    18  2016   \n",
       "96450               8.98                    30.0            16.10    19  2016   \n",
       "96451              10.53                    20.0            16.10    20  2016   \n",
       "96452               5.88                    39.0            15.52    21  2016   \n",
       "\n",
       "       Month  Day  \n",
       "0          3   31  \n",
       "1          3   31  \n",
       "2          4    1  \n",
       "3          4    1  \n",
       "4          4    1  \n",
       "...      ...  ...  \n",
       "96448      9    9  \n",
       "96449      9    9  \n",
       "96450      9    9  \n",
       "96451      9    9  \n",
       "96452      9    9  \n",
       "\n",
       "[88651 rows x 11 columns]"
      ]
     },
     "execution_count": 125,
     "metadata": {},
     "output_type": "execute_result"
    }
   ],
   "source": [
    "df['Precip Type'] = df['Precip Type'].replace(['rain', 'snow'], [0, 1])\n",
    "df"
   ]
  },
  {
   "cell_type": "code",
   "execution_count": 136,
   "metadata": {},
   "outputs": [
    {
     "name": "stderr",
     "output_type": "stream",
     "text": [
      "/var/folders/6r/7sqtcdsd1hn2br6bn4n5fzc00000gn/T/ipykernel_4654/3738073139.py:2: SettingWithCopyWarning: \n",
      "A value is trying to be set on a copy of a slice from a DataFrame.\n",
      "Try using .loc[row_indexer,col_indexer] = value instead\n",
      "\n",
      "See the caveats in the documentation: https://pandas.pydata.org/pandas-docs/stable/user_guide/indexing.html#returning-a-view-versus-a-copy\n",
      "  df['Summary'] = encoder.fit_transform(df[\"Summary\"])\n"
     ]
    }
   ],
   "source": [
    "encoder = LabelEncoder()\n",
    "df['Summary'] = encoder.fit_transform(df[\"Summary\"])\n",
    "\n"
   ]
  },
  {
   "cell_type": "code",
   "execution_count": 137,
   "metadata": {},
   "outputs": [
    {
     "data": {
      "text/plain": [
       "46       2\n",
       "47       2\n",
       "48       2\n",
       "49       2\n",
       "50       2\n",
       "        ..\n",
       "96432    0\n",
       "96433    0\n",
       "96434    0\n",
       "96435    0\n",
       "96436    0\n",
       "Name: Summary, Length: 30956, dtype: int64"
      ]
     },
     "execution_count": 137,
     "metadata": {},
     "output_type": "execute_result"
    }
   ],
   "source": [
    "df[\"Summary\"]"
   ]
  },
  {
   "cell_type": "code",
   "execution_count": 127,
   "metadata": {},
   "outputs": [
    {
     "name": "stdout",
     "output_type": "stream",
     "text": [
      "<class 'pandas.core.frame.DataFrame'>\n",
      "Int64Index: 30956 entries, 46 to 96436\n",
      "Data columns (total 11 columns):\n",
      " #   Column                  Non-Null Count  Dtype  \n",
      "---  ------                  --------------  -----  \n",
      " 0   Summary                 30956 non-null  object \n",
      " 1   Precip Type             30956 non-null  int64  \n",
      " 2   Temperature (C)         30956 non-null  float64\n",
      " 3   Humidity                30956 non-null  float64\n",
      " 4   Wind Speed (km/h)       30956 non-null  float64\n",
      " 5   Wind Bearing (degrees)  30956 non-null  float64\n",
      " 6   Visibility (km)         30956 non-null  float64\n",
      " 7   Time                    30956 non-null  int64  \n",
      " 8   Year                    30956 non-null  int64  \n",
      " 9   Month                   30956 non-null  int64  \n",
      " 10  Day                     30956 non-null  int64  \n",
      "dtypes: float64(5), int64(5), object(1)\n",
      "memory usage: 2.8+ MB\n"
     ]
    }
   ],
   "source": [
    "df = df[(df[\"Summary\"] == \"Overcast\") | (df[\"Summary\"] == \"Clear\") | (df[\"Summary\"] == \"Foggy\")]\n",
    "df.info()"
   ]
  },
  {
   "cell_type": "code",
   "execution_count": 129,
   "metadata": {},
   "outputs": [
    {
     "name": "stdout",
     "output_type": "stream",
     "text": [
      "<class 'pandas.core.frame.DataFrame'>\n",
      "Int64Index: 30956 entries, 46 to 96436\n",
      "Data columns (total 11 columns):\n",
      " #   Column                  Non-Null Count  Dtype  \n",
      "---  ------                  --------------  -----  \n",
      " 0   Summary                 30956 non-null  object \n",
      " 1   Precip Type             30956 non-null  int64  \n",
      " 2   Temperature (C)         30956 non-null  float64\n",
      " 3   Humidity                30956 non-null  float64\n",
      " 4   Wind Speed (km/h)       30956 non-null  float64\n",
      " 5   Wind Bearing (degrees)  30956 non-null  float64\n",
      " 6   Visibility (km)         30956 non-null  float64\n",
      " 7   Time                    30956 non-null  int64  \n",
      " 8   Year                    30956 non-null  int64  \n",
      " 9   Month                   30956 non-null  int64  \n",
      " 10  Day                     30956 non-null  int64  \n",
      "dtypes: float64(5), int64(5), object(1)\n",
      "memory usage: 2.8+ MB\n"
     ]
    }
   ],
   "source": [
    "df.info()"
   ]
  },
  {
   "cell_type": "code",
   "execution_count": 131,
   "metadata": {},
   "outputs": [
    {
     "name": "stdout",
     "output_type": "stream",
     "text": [
      "Class 'Clear' is labeled as 0\n",
      "Class 'Foggy' is labeled as 1\n",
      "Class 'Overcast' is labeled as 2\n"
     ]
    }
   ],
   "source": []
  },
  {
   "cell_type": "code",
   "execution_count": 132,
   "metadata": {},
   "outputs": [
    {
     "name": "stdout",
     "output_type": "stream",
     "text": [
      "<class 'pandas.core.frame.DataFrame'>\n",
      "Int64Index: 30956 entries, 46 to 96436\n",
      "Data columns (total 11 columns):\n",
      " #   Column                  Non-Null Count  Dtype  \n",
      "---  ------                  --------------  -----  \n",
      " 0   Summary                 30956 non-null  object \n",
      " 1   Precip Type             30956 non-null  int64  \n",
      " 2   Temperature (C)         30956 non-null  float64\n",
      " 3   Humidity                30956 non-null  float64\n",
      " 4   Wind Speed (km/h)       30956 non-null  float64\n",
      " 5   Wind Bearing (degrees)  30956 non-null  float64\n",
      " 6   Visibility (km)         30956 non-null  float64\n",
      " 7   Time                    30956 non-null  int64  \n",
      " 8   Year                    30956 non-null  int64  \n",
      " 9   Month                   30956 non-null  int64  \n",
      " 10  Day                     30956 non-null  int64  \n",
      "dtypes: float64(5), int64(5), object(1)\n",
      "memory usage: 2.8+ MB\n"
     ]
    }
   ],
   "source": [
    "df.info()"
   ]
  },
  {
   "cell_type": "code",
   "execution_count": 133,
   "metadata": {},
   "outputs": [
    {
     "data": {
      "text/plain": [
       "46       Overcast\n",
       "47       Overcast\n",
       "48       Overcast\n",
       "49       Overcast\n",
       "50       Overcast\n",
       "           ...   \n",
       "96432       Clear\n",
       "96433       Clear\n",
       "96434       Clear\n",
       "96435       Clear\n",
       "96436       Clear\n",
       "Name: Summary, Length: 30956, dtype: object"
      ]
     },
     "execution_count": 133,
     "metadata": {},
     "output_type": "execute_result"
    }
   ],
   "source": [
    "df['Summary']"
   ]
  },
  {
   "cell_type": "code",
   "execution_count": 138,
   "metadata": {},
   "outputs": [],
   "source": [
    "b = df.to_csv('last_data.csv')"
   ]
  },
  {
   "cell_type": "code",
   "execution_count": null,
   "metadata": {},
   "outputs": [],
   "source": []
  }
 ],
 "metadata": {
  "kernelspec": {
   "display_name": "py39",
   "language": "python",
   "name": "python3"
  },
  "language_info": {
   "codemirror_mode": {
    "name": "ipython",
    "version": 3
   },
   "file_extension": ".py",
   "mimetype": "text/x-python",
   "name": "python",
   "nbconvert_exporter": "python",
   "pygments_lexer": "ipython3",
   "version": "3.9.7"
  }
 },
 "nbformat": 4,
 "nbformat_minor": 2
}
